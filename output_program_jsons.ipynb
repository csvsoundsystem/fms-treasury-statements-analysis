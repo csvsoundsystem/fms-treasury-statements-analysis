{
 "metadata": {
  "name": "output_program_jsons"
 },
 "nbformat": 3,
 "nbformat_minor": 0,
 "worksheets": [
  {
   "cells": [
    {
     "cell_type": "code",
     "collapsed": false,
     "input": [
      "import ujson\n",
      "import numpy as np\n",
      "import pandas as pd\n",
      "import re"
     ],
     "language": "python",
     "metadata": {},
     "outputs": [],
     "prompt_number": 49
    },
    {
     "cell_type": "code",
     "collapsed": false,
     "input": [
      "df = pd.read_csv('table2.csv')\n",
      "df['item'][0:50]"
     ],
     "language": "python",
     "metadata": {},
     "outputs": [
      {
       "output_type": "pyout",
       "prompt_number": 69,
       "text": [
        "0                    Agriculture Loan Repayments (misc)\n",
        "1                 Commodity Credit Corporation programs\n",
        "2                      Customs and Certain Excise Taxes\n",
        "3                          Supplemental Security Income\n",
        "4                                          Unemployment\n",
        "5                         Education Department programs\n",
        "6                            Energy Department programs\n",
        "7                                 Estate and Gift Taxes\n",
        "8                              Federal Reserve Earnings\n",
        "9                       Foreign Deposits Military Sales\n",
        "10                            FTD's Received (Table IV)\n",
        "11               Housing and Urban Development programs\n",
        "12    Individual Income and Employment Taxes Not Wit...\n",
        "13                  Interest recd from T&L Depositaries\n",
        "14                          Justice Department programs\n",
        "15                                       Postal Service\n",
        "16                Public Debt Cash Issues (Table III-B)\n",
        "17                                 Total Other Deposits\n",
        "18    Change in Balance of Uncollected Funds (closin...\n",
        "19                          Transfers from Depositaries\n",
        "20                        Total Federal Reserve Account\n",
        "21                            FTD's Received (Table IV)\n",
        "22     Transfers from Federal Reserve Account (Table V)\n",
        "23           Total Tax and Loan Note Accounts (Table V)\n",
        "24                 Total Deposits (excluding transfers)\n",
        "25                Commodity Credit Corporation programs\n",
        "26                        Defense Vendor Payments (EFT)\n",
        "27                        Education Department programs\n",
        "28                           Energy Department programs\n",
        "29                 Federal Employees Insurance Payments\n",
        "30                 Fed. Highway Administration programs\n",
        "31                               Federal Salaries (EFT)\n",
        "32                    Food and Nutrition Service (misc)\n",
        "33                                          Food Stamps\n",
        "34                                         GSA programs\n",
        "35              Health and Human Services Grants (misc)\n",
        "36               Housing and Urban Development programs\n",
        "37                      Interest on Treasury Securities\n",
        "38                          Justice Department programs\n",
        "39               Labor Dept. prgms (excl. unemployment)\n",
        "40                                             Medicaid\n",
        "41                                             Medicare\n",
        "42                                        NASA programs\n",
        "43                Postal Service Money Orders and Other\n",
        "44               Public Debt Cash Redemp. (Table III-B)\n",
        "45                       Social Security Benefits (EFT)\n",
        "46        Temporary Assistance for Needy Families (HHS)\n",
        "47                      Unemployment Insurance Benefits\n",
        "48                            Veterans Affairs programs\n",
        "49                      Emergency Prep & Response (DHS)\n",
        "Name: item"
       ]
      }
     ],
     "prompt_number": 69
    },
    {
     "cell_type": "code",
     "collapsed": false,
     "input": [
      "deposits = df[df['type']=='deposit']\n",
      "withdrawals = df[df['type']=='withdrawal']"
     ],
     "language": "python",
     "metadata": {},
     "outputs": [],
     "prompt_number": 64
    },
    {
     "cell_type": "code",
     "collapsed": false,
     "input": [
      "programs = ['Agriculture Loan Repayments (misc)', 'Air Transport Security Fees', \"Cash FTD's Received (Table IV)\",\n",
      "    'Commodity Credit Corporation programs', 'Customs and Certain Excise Taxes', 'Supplemental Security Income', 'Unemployment',\n",
      "    'Education Department programs', 'Energy Department programs', 'Estate and Gift Taxes', 'Federal Reserve Earnings',\n",
      "    'Foreign Deposits, Military Sales', 'Housing and Urban Development programs', 'Individual Income and Employment Taxes Not Withheld',\n",
      "    'Interest recd from cash investments', 'Justice Department programs', 'Postal Service', 'Public Debt Cash Issues (Table III-B)',\n",
      "    'Defense Finance & Accounting Service', 'Federal Housing Admin: Note Sales', 'Railroad Unemployment Ins.', 'TARP']"
     ],
     "language": "python",
     "metadata": {},
     "outputs": [],
     "prompt_number": 70
    },
    {
     "cell_type": "code",
     "collapsed": false,
     "input": [
      "dir_name = '/Users/bjdewilde/Dropbox/FMS/program_jsons/'\n",
      "for program in programs:\n",
      "    dates_values = []\n",
      "    dates = list(deposits[deposits['item'] == program]['date'])\n",
      "    values = list(deposits[deposits['item'] == program]['today'])\n",
      "    for date in dates:\n",
      "        value = values[dates.index(date)]\n",
      "        dates_values.append([date, int(value)])\n",
      "    f_name = re.sub(r'\\s+', '_', program.lower())\n",
      "    f_name = re.sub(r\",|'|\\.\", '', f_name)\n",
      "    print f_name\n",
      "    f = open(dir_name + f_name + '_deposits.js', 'w')\n",
      "    f.write(ujson.dumps(dates_values))\n",
      "    f.close()"
     ],
     "language": "python",
     "metadata": {},
     "outputs": [
      {
       "output_type": "stream",
       "stream": "stdout",
       "text": [
        "cash_ftds_received_(table_iv)\n",
        "unemployment"
       ]
      },
      {
       "output_type": "stream",
       "stream": "stdout",
       "text": [
        "\n",
        "education_department_programs"
       ]
      },
      {
       "output_type": "stream",
       "stream": "stdout",
       "text": [
        "\n",
        "energy_department_programs"
       ]
      },
      {
       "output_type": "stream",
       "stream": "stdout",
       "text": [
        "\n",
        "housing_and_urban_development_programs\n",
        "individual_income_and_employment_taxes_not_withheld"
       ]
      },
      {
       "output_type": "stream",
       "stream": "stdout",
       "text": [
        "\n",
        "postal_service"
       ]
      },
      {
       "output_type": "stream",
       "stream": "stdout",
       "text": [
        "\n",
        "public_debt_cash_issues_(table_iii-b)"
       ]
      },
      {
       "output_type": "stream",
       "stream": "stdout",
       "text": [
        "\n",
        "defense_finance_&_accounting_service\n",
        "tarp\n"
       ]
      }
     ],
     "prompt_number": 73
    },
    {
     "cell_type": "code",
     "collapsed": false,
     "input": [
      "programs = ['Commodity Credit Corporation programs', 'Defense Vendor Payments (EFT)', 'Education Department programs',\n",
      "    'Energy Department programs', 'Federal Employees Insurance Payments', 'Fed. Highway Administration programs',\n",
      "    'Federal Salaries (EFT)', 'Food and Nutrition Service (misc)', 'GSA programs', 'Health and Human Services Grants (misc)',\n",
      "    'Housing and Urban Development programs', 'Interest on Treasury Securities', 'IRS Tax Refunds Business (EFT)',\n",
      "    'IRS Tax Refunds Individual (EFT)', 'Justice Department programs', 'Labor Dept. prgms (excl. unemployment)',\n",
      "    'Medicaid', 'Medicare', 'NASA programs', 'Postal Service Money Orders and Other', 'Public Debt Cash Redemp. (Table III-B)',\n",
      "    'Social Security Benefits (EFT)', 'Supple. Nutrition Assist. Program (SNAP)', 'Temporary Assistance for Needy Families (HHS)',\n",
      "    'Unemployment Insurance Benefits', 'Veterans Affairs programs', 'Agriculture', 'Emergency Prep & Response (DHS)',\n",
      "    'Federal Crop Ins. Corp.', 'Thrift Savings Plan Transfer']"
     ],
     "language": "python",
     "metadata": {},
     "outputs": [],
     "prompt_number": 74
    },
    {
     "cell_type": "code",
     "collapsed": false,
     "input": [
      "dir_name = '/Users/bjdewilde/Dropbox/FMS/program_jsons/'\n",
      "for program in programs:\n",
      "    dates_values = []\n",
      "    dates = list(withdrawals[withdrawals['item'] == program]['date'])\n",
      "    values = list(withdrawals[withdrawals['item'] == program]['today'])\n",
      "    for date in dates:\n",
      "        value = values[dates.index(date)]\n",
      "        dates_values.append([date, int(value)])\n",
      "    f_name = re.sub(r'\\s+', '_', program.lower())\n",
      "    f_name = re.sub(r\",|'|\\.\", '', f_name)\n",
      "    print f_name\n",
      "    f = open(dir_name + f_name + '_withdrawals.js', 'w')\n",
      "    f.write(ujson.dumps(dates_values))\n",
      "    f.close()"
     ],
     "language": "python",
     "metadata": {},
     "outputs": [
      {
       "output_type": "stream",
       "stream": "stdout",
       "text": [
        "commodity_credit_corporation_programs\n",
        "defense_vendor_payments_(eft)"
       ]
      },
      {
       "output_type": "stream",
       "stream": "stdout",
       "text": [
        "\n",
        "education_department_programs"
       ]
      },
      {
       "output_type": "stream",
       "stream": "stdout",
       "text": [
        "\n",
        "energy_department_programs"
       ]
      },
      {
       "output_type": "stream",
       "stream": "stdout",
       "text": [
        "\n",
        "federal_employees_insurance_payments"
       ]
      },
      {
       "output_type": "stream",
       "stream": "stdout",
       "text": [
        "\n",
        "fed_highway_administration_programs"
       ]
      },
      {
       "output_type": "stream",
       "stream": "stdout",
       "text": [
        "\n",
        "federal_salaries_(eft)"
       ]
      },
      {
       "output_type": "stream",
       "stream": "stdout",
       "text": [
        "\n",
        "food_and_nutrition_service_(misc)"
       ]
      },
      {
       "output_type": "stream",
       "stream": "stdout",
       "text": [
        "\n",
        "gsa_programs"
       ]
      },
      {
       "output_type": "stream",
       "stream": "stdout",
       "text": [
        "\n",
        "health_and_human_services_grants_(misc)"
       ]
      },
      {
       "output_type": "stream",
       "stream": "stdout",
       "text": [
        "\n",
        "housing_and_urban_development_programs"
       ]
      },
      {
       "output_type": "stream",
       "stream": "stdout",
       "text": [
        "\n",
        "interest_on_treasury_securities"
       ]
      },
      {
       "output_type": "stream",
       "stream": "stdout",
       "text": [
        "\n",
        "irs_tax_refunds_business_(eft)\n",
        "irs_tax_refunds_individual_(eft)"
       ]
      },
      {
       "output_type": "stream",
       "stream": "stdout",
       "text": [
        "\n",
        "justice_department_programs"
       ]
      },
      {
       "output_type": "stream",
       "stream": "stdout",
       "text": [
        "\n",
        "labor_dept_prgms_(excl_unemployment)"
       ]
      },
      {
       "output_type": "stream",
       "stream": "stdout",
       "text": [
        "\n",
        "medicaid"
       ]
      },
      {
       "output_type": "stream",
       "stream": "stdout",
       "text": [
        "\n",
        "medicare"
       ]
      },
      {
       "output_type": "stream",
       "stream": "stdout",
       "text": [
        "\n",
        "nasa_programs"
       ]
      },
      {
       "output_type": "stream",
       "stream": "stdout",
       "text": [
        "\n",
        "postal_service_money_orders_and_other"
       ]
      },
      {
       "output_type": "stream",
       "stream": "stdout",
       "text": [
        "\n",
        "public_debt_cash_redemp_(table_iii-b)"
       ]
      },
      {
       "output_type": "stream",
       "stream": "stdout",
       "text": [
        "\n",
        "social_security_benefits_(eft)"
       ]
      },
      {
       "output_type": "stream",
       "stream": "stdout",
       "text": [
        "\n",
        "supple_nutrition_assist_program_(snap)\n",
        "temporary_assistance_for_needy_families_(hhs)"
       ]
      },
      {
       "output_type": "stream",
       "stream": "stdout",
       "text": [
        "\n",
        "unemployment_insurance_benefits"
       ]
      },
      {
       "output_type": "stream",
       "stream": "stdout",
       "text": [
        "\n",
        "veterans_affairs_programs"
       ]
      },
      {
       "output_type": "stream",
       "stream": "stdout",
       "text": [
        "\n",
        "agriculture\n",
        "emergency_prep_&_response_(dhs)\n",
        "federal_crop_ins_corp"
       ]
      },
      {
       "output_type": "stream",
       "stream": "stdout",
       "text": [
        "\n",
        "thrift_savings_plan_transfer\n"
       ]
      }
     ],
     "prompt_number": 76
    },
    {
     "cell_type": "code",
     "collapsed": false,
     "input": [],
     "language": "python",
     "metadata": {},
     "outputs": []
    }
   ],
   "metadata": {}
  }
 ]
}